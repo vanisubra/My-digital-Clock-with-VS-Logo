{
 "cells": [
  {
   "cell_type": "code",
   "execution_count": null,
   "id": "24171156-3f29-4e9c-a4e1-e4f00fd444e8",
   "metadata": {
    "tags": []
   },
   "outputs": [],
   "source": [
    "import tkinter as tk\n",
    "import time\n",
    "from PIL import Image, ImageTk                                    \n",
    " # PIL or Pillow Required for loading an image\n",
    " #The Pillow library contains all the basic image processing functionality. \n",
    " #You can do image resizing, rotation and transformation\n",
    "\n",
    "def update_clock():\n",
    "    current_time = time.strftime(\"%H:%M:%S\")                       # Get current time in HH:MM:SS format\n",
    "    canvas.itemconfig(clock_display, text=current_time)            # Update the canvas text\n",
    "    canvas.after(1000, update_clock)                               # function is called after every 1 second)\n",
    "\n",
    "# Create a Tkinter window\n",
    "\n",
    "root = tk.Tk()\n",
    "root.title(\"Digital Clock with logo \")\n",
    "\n",
    "# Create a canvas widget with a custom shape \n",
    "\n",
    "canvas = tk.Canvas(root, width=300, height=120)\n",
    "canvas.pack()\n",
    "\n",
    "# Draw a custom shape - oval with python color code \n",
    "\n",
    "oval = canvas.create_oval(10, 10, 300, 120, fill=\"#009ACD\")\n",
    "\n",
    "#rectangle = canvas.create_rectangle(50, 10, 300, 90, fill=\"blue\")\n",
    "\n",
    "# Load and display a logo image\n",
    "logo_image = Image.open(\"VS logo.png\")             \n",
    "logo_image = logo_image.resize((50, 50) , Image.LANCZOS)          # Resize the image\n",
    "logo_photo = ImageTk.PhotoImage(logo_image)\n",
    "logo_display = canvas.create_image(75, 70, image=logo_photo)\n",
    "\n",
    "\n",
    "\n",
    "clock_display = canvas.create_text(200, 70, text=\"\", font=(\"Helvetica\", 24), fill=\"white\")\n",
    "\n",
    "#\n",
    "# Start updating the clock\n",
    "update_clock()\n",
    "\n",
    "root.mainloop()\n"
   ]
  },
  {
   "cell_type": "code",
   "execution_count": null,
   "id": "ce6a15ab-8c1c-4c7f-84ad-d7987bd5e45a",
   "metadata": {},
   "outputs": [],
   "source": []
  },
  {
   "cell_type": "code",
   "execution_count": null,
   "id": "7f98e1fe-dd05-4c46-95e2-270a996c52ed",
   "metadata": {},
   "outputs": [],
   "source": []
  },
  {
   "cell_type": "code",
   "execution_count": null,
   "id": "2fafe423-016f-4bce-815a-7ccd847908f9",
   "metadata": {},
   "outputs": [],
   "source": []
  }
 ],
 "metadata": {
  "kernelspec": {
   "display_name": "Python 3 (ipykernel)",
   "language": "python",
   "name": "python3"
  },
  "language_info": {
   "codemirror_mode": {
    "name": "ipython",
    "version": 3
   },
   "file_extension": ".py",
   "mimetype": "text/x-python",
   "name": "python",
   "nbconvert_exporter": "python",
   "pygments_lexer": "ipython3",
   "version": "3.11.4"
  }
 },
 "nbformat": 4,
 "nbformat_minor": 5
}
